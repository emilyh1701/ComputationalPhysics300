{
 "cells": [
  {
   "cell_type": "markdown",
   "id": "1d6013b2",
   "metadata": {},
   "source": [
    "## 17.5 Homework\n",
    "\n",
    "Write a program to find the ground state of LJ potential for N=3 (assuming $\\epsilon$ = $\\sigma$ = 1)\n",
    "\n",
    "[Reference](http://doye.chem.ox.ac.uk/jon/structures/LJ/tables.150.html)\n"
   ]
  },
  {
   "cell_type": "code",
   "execution_count": 3,
   "id": "c38a622a",
   "metadata": {},
   "outputs": [
    {
     "name": "stdout",
     "output_type": "stream",
     "text": [
      "Total energy =  -2.999999999999914\n"
     ]
    }
   ],
   "source": [
    "import numpy as np\n",
    "from scipy.optimize import minimize\n",
    "\n",
    "def LJ(r):\n",
    "    r6 = r**6\n",
    "    r12 = r6*r6\n",
    "    return 4*(1/r12-1/r6)\n",
    "\n",
    "def energy(x):\n",
    "    E = 0\n",
    "    n_atoms = int(len(x)/3)\n",
    "    \n",
    "    for i in range(n_atoms - 1):\n",
    "        for j in range(i + 1, n_atoms):\n",
    "            x1 = x[i*3:(i+1)*3]\n",
    "            x2 = x[j*3:(j+1)*3]\n",
    "            distance = np.linalg.norm(x1-x2)\n",
    "            E += LJ(distance)\n",
    "    return E\n",
    "\n",
    "def init(N, L=5):\n",
    "    return L*np.random.random_sample((N*3,))\n",
    "\n",
    "x = init(3)\n",
    "\n",
    "res = minimize(energy, x, method = 'CG', tol = 1e-4)\n",
    "\n",
    "print(\"Total energy = \", res.fun)"
   ]
  },
  {
   "cell_type": "code",
   "execution_count": null,
   "id": "d7f8c656",
   "metadata": {},
   "outputs": [],
   "source": []
  }
 ],
 "metadata": {
  "kernelspec": {
   "display_name": "Python 3 (ipykernel)",
   "language": "python",
   "name": "python3"
  },
  "language_info": {
   "codemirror_mode": {
    "name": "ipython",
    "version": 3
   },
   "file_extension": ".py",
   "mimetype": "text/x-python",
   "name": "python",
   "nbconvert_exporter": "python",
   "pygments_lexer": "ipython3",
   "version": "3.8.5"
  }
 },
 "nbformat": 4,
 "nbformat_minor": 5
}
