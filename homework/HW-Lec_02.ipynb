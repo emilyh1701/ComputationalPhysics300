{
 "cells": [
  {
   "cell_type": "markdown",
   "id": "bf1d8565",
   "metadata": {},
   "source": [
    "_Proof._\n",
    "\n",
    "The number of combinations of $N$ distinct objects taken $n$ at a time $(n\\leq N)$ is given by the combination $$_{N}C_{n} = \\frac{N!}{n!\\cdot(N-n)!} = \\binom{N}{n}$$\n",
    "\n",
    "Now we know the definition of a permutation is given by $$_{N}P_{n} = \\frac{N!}{(N-n)!}$$\n",
    "\n",
    "For simplicity, let $_{N}C_{n} = b$. Note that $$_{n}P_{n} = \\frac{n!}{(n-n)!} = \\frac{n!}{1} = {n!}$$\n",
    "\n",
    "Thus, $b$ combinations will give rise to $$b * _{n}P_{n} = b*{n!} = _{N}P_{n}$$\n",
    "\n",
    "Thus $$b = \\frac{_{N}P_{n}}{n!} = _{N}C_{r} = \\frac{N!}{n!\\cdot(N-n)!} = \\binom{N}{n}$$ \n",
    "\n",
    "Hence the combinations formula/binomial coefficient is proved. $\\blacksquare$\n"
   ]
  },
  {
   "cell_type": "code",
   "execution_count": 1,
   "id": "bfcf7307",
   "metadata": {},
   "outputs": [
    {
     "name": "stdout",
     "output_type": "stream",
     "text": [
      "When q =  0 ; Omega 1.0\n",
      "When q =  1 ; Omega 3.0\n",
      "When q =  2 ; Omega 6.0\n"
     ]
    }
   ],
   "source": [
    "def factor(N):\n",
    "    \n",
    "    \"\"\"This function calculates the factorial of a number\"\"\"\n",
    "    \n",
    "    if N == 0 or N == 1:\n",
    "        return 1\n",
    "    else: \n",
    "        total = 1\n",
    "        for i in range(2, N + 1):\n",
    "            total *= i\n",
    "        return total     \n",
    "             \n",
    "def Multiplicity(N, q):\n",
    "    \n",
    "    \"\"\"This function calculates Omega\"\"\"\n",
    "    \n",
    "    return factor(q + N -1)/factor(q)/factor(N - 1)\n",
    "\n",
    "N = 3 # N is the number of oscillators, 0 <= q <= (N - 1)\n",
    "\n",
    "for q in range(N):\n",
    "    print('When q = ', q, '; Omega', Multiplicity(N,q))"
   ]
  },
  {
   "cell_type": "code",
   "execution_count": null,
   "id": "c3f1f408",
   "metadata": {},
   "outputs": [],
   "source": []
  }
 ],
 "metadata": {
  "kernelspec": {
   "display_name": "Python 3 (ipykernel)",
   "language": "python",
   "name": "python3"
  },
  "language_info": {
   "codemirror_mode": {
    "name": "ipython",
    "version": 3
   },
   "file_extension": ".py",
   "mimetype": "text/x-python",
   "name": "python",
   "nbconvert_exporter": "python",
   "pygments_lexer": "ipython3",
   "version": "3.8.5"
  }
 },
 "nbformat": 4,
 "nbformat_minor": 5
}
