{
 "cells": [
  {
   "cell_type": "markdown",
   "id": "ce4b62bc",
   "metadata": {},
   "source": [
    "## 14.4 Homework\n",
    "1. Import the visual package in python to make an animation on the screen of the position of the particle in Brownian motion.\n",
    "2. Rewrite the radioactive decay, to generate 2000 random numbers following the non-uniformed distribution (This is already a solved problem in the class. However, you are suggested to repeat it by yourself)."
   ]
  },
  {
   "cell_type": "code",
   "execution_count": 1,
   "id": "d3ebd5cd",
   "metadata": {},
   "outputs": [
    {
     "data": {
      "image/png": "[encoded data removed]",
      "text/plain": [
       "<Figure size 432x288 with 1 Axes>"
      ]
     },
     "metadata": {
      "needs_background": "light"
     },
     "output_type": "display_data"
    }
   ],
   "source": [
    "# Brownian Motion\n",
    "import numpy as np\n",
    "import matplotlib.pyplot as plt\n",
    "from matplotlib.animation import FuncAnimation as animation\n",
    "\n",
    "fig, ax = plt.subplots()\n",
    "\n",
    "L1 = 101\n",
    "L2 = 101\n",
    "N = 1000\n",
    "\n",
    "xdata = []\n",
    "ydata = []\n",
    "direction = np.array([[0,1],[0,-1],[1,0],[-1,0]]) #up, down, right, left\n",
    "line, = plt.plot([],[],'k.')\n",
    "\n",
    "def init():\n",
    "    #initialization\n",
    "    ax.set_xlim(0,L1)\n",
    "    ax.set_ylim(0,L2)\n",
    "    xdata.append(int(L1/2))\n",
    "    ydata.append(int(L2/2))\n",
    "    line.set_data(xdata, ydata)\n",
    "    return line,\n",
    "\n",
    "\n",
    "def brown(position):\n",
    "    \n",
    "    x = -1\n",
    "    y = -1\n",
    "\n",
    "    #np.random.seed(2) \n",
    "\n",
    "    # random walk\n",
    "    while min(x,y) < 0 or x > L1 or y > L2:\n",
    "        walk = np.random.randint(len(direction))\n",
    "        x = xdata[position - 1] + direction[walk][0]\n",
    "        y = ydata[position - 1] + direction[walk][1]\n",
    "    \n",
    "    xdata.append(x)\n",
    "    ydata.append(y)\n",
    "    line.set_data(xdata, ydata)\n",
    "    \n",
    "    return line,\n",
    "    \n",
    "ani = animation(fig, brown, frames = np.arange(1,N), init_func = init, blit = True)        \n",
    "plt.show()\n",
    "        \n",
    "        \n",
    "# plot the trajectory\n",
    "# ax = plt.axes()\n",
    "# ax.set_facecolor('silver')\n",
    "# plt.xlim(0,L1)\n",
    "# plt.ylim(0,L2)\n",
    "# plt.title('Brownian motion')\n",
    "# plt.scatter(position[:,0], position[:,1], c=range(N), s=60, alpha=0.8)\n",
    "# plt.text(position[0,0], position[0,1], 'start', fontsize=24, color='w')\n",
    "# plt.text(position[-1,0], position[-1,1], 'end', fontsize=24)\n",
    "\n",
    "# cbar = plt.colorbar()\n",
    "# cbar.set_label('Itertion number')\n",
    "# plt.show()"
   ]
  },
  {
   "cell_type": "markdown",
   "id": "480dfdf8",
   "metadata": {},
   "source": [
    "Radioactive Decay"
   ]
  },
  {
   "cell_type": "code",
   "execution_count": 4,
   "id": "23cc5690",
   "metadata": {},
   "outputs": [
    {
     "data": {
      "image/png": "[encoded data removed]",
      "text/plain": [
       "<Figure size 432x288 with 1 Axes>"
      ]
     },
     "metadata": {
      "needs_background": "light"
     },
     "output_type": "display_data"
    }
   ],
   "source": [
    "tmax = 2000\n",
    "N_Tl = 2000\n",
    "N_Pb = 0\n",
    "tau = 3.053*60 #seconds\n",
    "dt = 1 #seconds\n",
    "p = 1 - 2**(-dt/tau)\n",
    "\n",
    "t_points = np.arange(0.0, tmax, dt)\n",
    "Tl = []\n",
    "Pb = []\n",
    "\n",
    "for t in range(tmax):\n",
    "    Tl.append(N_Tl)\n",
    "    Pb.append(N_Pb)\n",
    "    \n",
    "    decay = 0 \n",
    "    for i in range(N_Tl):\n",
    "        if np.random.random() < p:\n",
    "            decay += 1\n",
    "    N_Tl -= decay\n",
    "    N_Pb += decay\n",
    "    \n",
    "plt.plot(t_points, Tl, label = 'Tl')\n",
    "plt.plot(t_points, Pb, label = 'Pb')\n",
    "plt.xlabel(\"Time\")\n",
    "plt.ylabel(\"Number of Atoms\")\n",
    "plt.legend()\n",
    "plt.show()"
   ]
  },
  {
   "cell_type": "code",
   "execution_count": null,
   "id": "f29ba0a7",
   "metadata": {},
   "outputs": [],
   "source": []
  }
 ],
 "metadata": {
  "kernelspec": {
   "display_name": "Python 3 (ipykernel)",
   "language": "python",
   "name": "python3"
  },
  "language_info": {
   "codemirror_mode": {
    "name": "ipython",
    "version": 3
   },
   "file_extension": ".py",
   "mimetype": "text/x-python",
   "name": "python",
   "nbconvert_exporter": "python",
   "pygments_lexer": "ipython3",
   "version": "3.8.5"
  }
 },
 "nbformat": 4,
 "nbformat_minor": 5
}
