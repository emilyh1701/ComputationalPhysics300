{
 "cells": [
  {
   "cell_type": "markdown",
   "id": "0f66d65c",
   "metadata": {},
   "source": [
    "## 11.5 Homework\n",
    "\n",
    "#### 1. Monte Carlo Integral\n",
    "\n",
    "Calculate the area shaded in green\n",
    "![Homework](https://raw.githubusercontent.com/qzhu2017/2017-cmp/master/img/MC1.png)\n",
    "\n",
    "#### 2. Error Analysis\n",
    "Try to do the intergral many times (100) for different $N$ values (100, 1000, 10000, 100000), collect the data and calculate its variance.\n"
   ]
  },
  {
   "cell_type": "markdown",
   "id": "955fa45d",
   "metadata": {},
   "source": [
    "## 11.6 Appendix\n",
    "\n",
    "Below is a script used to generate two circle intersection shown in homework 1.\n",
    "\n",
    "```python\n",
    "import matplotlib.pyplot as plt\n",
    "import numpy as np\n",
    "\n",
    "fig1 = plt.figure()\n",
    "ax1 = fig1.add_subplot(111, aspect='equal')\n",
    "\n",
    "x1 = np.linspace(0,2,100)\n",
    "y1 = np.sqrt(1-(x1-1)**2)\n",
    "ax1.plot(x1,y1,'k')\n",
    "\n",
    "y2 = 2-np.sqrt(4-x1**2)\n",
    "ax1.plot(x1,y2,'k')\n",
    "\n",
    "ax1.set_xlim(0,2)\n",
    "ax1.set_ylim(0,2)\n",
    "ax1.fill_between(x1, y1, y2, where=y1>y2, facecolor='green')\n",
    "\n",
    "plt.show()\n",
    "#plt.savefig('MC1.png')\n",
    "```"
   ]
  },
  {
   "cell_type": "code",
   "execution_count": 1,
   "id": "6808a84f",
   "metadata": {},
   "outputs": [
    {
     "data": {
      "image/png": "[encoded data removed]",
      "text/plain": [
       "<Figure size 432x288 with 1 Axes>"
      ]
     },
     "metadata": {
      "needs_background": "light"
     },
     "output_type": "display_data"
    }
   ],
   "source": [
    "import matplotlib.pyplot as plt\n",
    "import numpy as np\n",
    "\n",
    "fig1 = plt.figure()\n",
    "ax1 = fig1.add_subplot(111, aspect='equal')\n",
    "\n",
    "x1 = np.linspace(0,2,100)\n",
    "y1 = np.sqrt(1-(x1-1)**2)\n",
    "ax1.plot(x1,y1,'k')\n",
    "\n",
    "y2 = 2-np.sqrt(4-x1**2)\n",
    "ax1.plot(x1,y2,'k')\n",
    "\n",
    "ax1.set_xlim(0,2)\n",
    "ax1.set_ylim(0,2)\n",
    "ax1.fill_between(x1, y1, y2, where=y1>y2, facecolor='green')\n",
    "\n",
    "plt.show()\n",
    "#plt.savefig('MC1.png')"
   ]
  },
  {
   "cell_type": "code",
   "execution_count": 13,
   "id": "d981ac08",
   "metadata": {},
   "outputs": [],
   "source": [
    "from random import random\n",
    "\n",
    "def f1(x):\n",
    "    return np.sqrt(1-(x-1)**2)\n",
    "\n",
    "def f2(x):\n",
    "    return 2-np.sqrt(4-x**2)\n",
    "\n",
    "def MC(N):\n",
    "    count = 0\n",
    "    for i in range(N):\n",
    "        x = 2*random()\n",
    "        y = random()\n",
    "        if y<(f1(x)-f2(x)): #f1-f2 is the area between the two curves\n",
    "            count += 1\n",
    "    I = 1.6*count/N #area of 1.6 is used here, height of 1, intersect at 1.6\n",
    "#    print(count/N)\n",
    "    return I\n"
   ]
  },
  {
   "cell_type": "code",
   "execution_count": 16,
   "id": "2a09bfc4",
   "metadata": {},
   "outputs": [
    {
     "name": "stdout",
     "output_type": "stream",
     "text": [
      "[0.72, 0.784, 0.7360000000000001, 0.688, 0.72, 0.8, 0.72, 0.7040000000000001, 0.8, 0.8, 0.6240000000000001, 0.784, 0.8160000000000001, 0.7360000000000001, 0.8160000000000001, 0.8320000000000001, 0.8160000000000001, 0.7680000000000001, 0.752, 0.8160000000000001, 0.992, 0.8, 0.784, 0.72, 0.8960000000000001, 0.8, 0.784, 0.8, 0.8320000000000001, 0.8160000000000001, 0.8960000000000001, 0.8320000000000001, 0.8160000000000001, 0.8960000000000001, 0.8, 0.8, 0.9440000000000001, 0.8640000000000001, 0.8640000000000001, 0.72, 0.8480000000000001, 0.9280000000000002, 0.72, 0.8640000000000001, 0.8640000000000001, 0.8480000000000001, 0.8960000000000001, 0.72, 0.912, 0.7360000000000001, 0.9440000000000001, 0.752, 0.88, 0.8480000000000001, 0.7680000000000001, 0.72, 0.7360000000000001, 0.752, 0.7680000000000001, 0.9280000000000002, 0.72, 0.7360000000000001, 0.64, 0.72, 0.6240000000000001, 0.784, 0.8160000000000001, 0.7360000000000001, 0.784, 0.8640000000000001, 0.8, 0.7360000000000001, 0.72, 0.8160000000000001, 0.7360000000000001, 0.7360000000000001, 0.784, 0.7360000000000001, 0.752, 0.72, 0.8320000000000001, 0.8, 0.688, 0.88, 0.8, 0.752, 0.6560000000000001, 0.6240000000000001, 0.672, 0.752, 0.7040000000000001, 0.8480000000000001, 0.7040000000000001, 0.9280000000000002, 0.912, 0.88, 0.5920000000000001, 0.6560000000000001, 0.8640000000000001, 0.752]\n",
      " \n",
      "[0.7472000000000001, 0.7488, 0.752, 0.7616, 0.7456, 0.7872, 0.7808, 0.752, 0.7648, 0.7872, 0.7904000000000001, 0.7712, 0.744, 0.7952, 0.7952, 0.7824000000000001, 0.7344, 0.7776000000000001, 0.7888000000000001, 0.7712, 0.7824000000000001, 0.7536, 0.7632000000000001, 0.7536, 0.7664000000000001, 0.7408, 0.784, 0.768, 0.7568, 0.7824000000000001, 0.7792, 0.7792, 0.7408, 0.8064000000000001, 0.7744000000000001, 0.7232000000000001, 0.8304000000000001, 0.7984000000000001, 0.7808, 0.7888000000000001, 0.7712, 0.7632000000000001, 0.7568, 0.7392000000000001, 0.7392000000000001, 0.8112, 0.7584000000000001, 0.7568, 0.816, 0.7968000000000001, 0.7584000000000001, 0.784, 0.8032, 0.7984000000000001, 0.7616, 0.7632000000000001, 0.7712, 0.7424000000000001, 0.776, 0.8, 0.7568, 0.792, 0.7952, 0.752, 0.7184, 0.792, 0.7232000000000001, 0.7584000000000001, 0.784, 0.7744000000000001, 0.736, 0.7376, 0.7104000000000001, 0.7488, 0.7808, 0.752, 0.784, 0.7872, 0.7648, 0.7456, 0.7872, 0.7744000000000001, 0.7664000000000001, 0.8256, 0.7488, 0.7888000000000001, 0.7504000000000001, 0.7536, 0.7392000000000001, 0.7984000000000001, 0.8144000000000001, 0.7584000000000001, 0.7984000000000001, 0.7744000000000001, 0.7984000000000001, 0.7744000000000001, 0.7904000000000001, 0.76, 0.7744000000000001, 0.7968000000000001]\n",
      " \n",
      "[0.7804800000000001, 0.78368, 0.776, 0.76512, 0.7801600000000001, 0.7707200000000001, 0.7801600000000001, 0.7896, 0.76848, 0.7768, 0.76592, 0.7832, 0.76304, 0.76704, 0.76976, 0.75776, 0.7752, 0.75568, 0.76576, 0.77248, 0.77392, 0.7721600000000001, 0.7624, 0.7761600000000001, 0.7608, 0.77136, 0.75392, 0.78288, 0.7646400000000001, 0.78176, 0.7686400000000001, 0.76592, 0.78224, 0.7646400000000001, 0.77008, 0.7609600000000001, 0.7707200000000001, 0.77536, 0.77344, 0.77408, 0.7627200000000001, 0.76656, 0.7686400000000001, 0.77696, 0.7576, 0.7656, 0.7569600000000001, 0.7608, 0.75616, 0.7704, 0.7843200000000001, 0.75536, 0.7592, 0.76688, 0.78064, 0.77712, 0.76976, 0.7609600000000001, 0.77328, 0.7566400000000001, 0.7587200000000001, 0.7689600000000001, 0.77408, 0.7761600000000001, 0.76112, 0.76656, 0.77056, 0.7686400000000001, 0.7726400000000001, 0.75088, 0.76608, 0.77344, 0.7790400000000001, 0.7790400000000001, 0.76368, 0.7704, 0.7678400000000001, 0.7627200000000001, 0.7678400000000001, 0.7710400000000001, 0.7641600000000001, 0.7649600000000001, 0.76192, 0.76624, 0.76736, 0.75824, 0.77744, 0.76944, 0.7624, 0.7683200000000001, 0.7603200000000001, 0.78496, 0.76256, 0.7696, 0.7547200000000001, 0.77408, 0.75408, 0.77856, 0.7766400000000001, 0.772]\n",
      " \n",
      "[0.7712960000000001, 0.7686240000000001, 0.7707840000000001, 0.7728160000000001, 0.7749440000000001, 0.7712960000000001, 0.77288, 0.768752, 0.7697919999999999, 0.77312, 0.7640640000000001, 0.7681760000000001, 0.7693760000000001, 0.766, 0.770512, 0.76928, 0.769904, 0.767872, 0.77448, 0.7718240000000001, 0.768672, 0.7704160000000001, 0.7678560000000001, 0.771008, 0.7671040000000001, 0.7681760000000001, 0.7692, 0.7696, 0.7701760000000001, 0.770656, 0.7682240000000001, 0.7665440000000001, 0.767872, 0.7677919999999999, 0.76896, 0.7729280000000001, 0.7714240000000001, 0.7682880000000001, 0.7717280000000001, 0.77096, 0.7712960000000001, 0.770016, 0.7724960000000001, 0.7706240000000001, 0.7710560000000001, 0.7743840000000001, 0.770512, 0.771712, 0.7675040000000001, 0.772656, 0.7697280000000001, 0.769872, 0.76928, 0.7692640000000001, 0.7683840000000001, 0.768336, 0.7688640000000001, 0.7674880000000001, 0.766656, 0.76736, 0.768192, 0.7678560000000001, 0.769776, 0.768832, 0.7714719999999999, 0.768768, 0.7637280000000001, 0.771248, 0.768704, 0.775152, 0.77232, 0.7685919999999999, 0.7666240000000001, 0.769904, 0.769904, 0.7692319999999999, 0.7679040000000001, 0.772208, 0.770576, 0.766672, 0.7674240000000001, 0.772528, 0.7691680000000001, 0.7689119999999999, 0.7744160000000001, 0.7730560000000001, 0.765872, 0.76824, 0.766448, 0.7653440000000001, 0.769312, 0.7718240000000001, 0.771408, 0.7657919999999999, 0.76856, 0.7687360000000001, 0.770016, 0.7724, 0.770336, 0.7664160000000001]\n"
     ]
    }
   ],
   "source": [
    "data100 = []\n",
    "dataN100 = []\n",
    "data1000 = []\n",
    "dataN1000 = []\n",
    "data10000 = []\n",
    "dataN10000 = []\n",
    "data100000 = []\n",
    "dataN100000 = []\n",
    "\n",
    "for i in range(100):\n",
    "    for N in [100]:\n",
    "        #print(N,MC(N))\n",
    "        data = MC(N)\n",
    "        datan = N\n",
    "        data100.append(data)\n",
    "        dataN100.append(datan)\n",
    "        #print(data)\n",
    "\n",
    "for i in range(100):\n",
    "    for N in [1000]:\n",
    "        #print(N,MC(N))\n",
    "        data = MC(N)\n",
    "        datan = N\n",
    "        data1000.append(data)\n",
    "        dataN1000.append(datan)\n",
    "        #print(data)\n",
    "        \n",
    "for i in range(100):\n",
    "    for N in [10000]:\n",
    "        #print(N,MC(N))\n",
    "        data = MC(N)\n",
    "        datan = N\n",
    "        data10000.append(data)\n",
    "        dataN10000.append(datan)\n",
    "        #print(data)\n",
    "        \n",
    "for i in range(100):\n",
    "    for N in [100000]:\n",
    "        #print(N,MC(N))\n",
    "        data = MC(N)\n",
    "        datan = N\n",
    "        data100000.append(data)\n",
    "        dataN100000.append(datan)\n",
    "        #print(data)\n",
    "    \n",
    "print(data100)\n",
    "#print(dataN100)\n",
    "print(\" \")\n",
    "\n",
    "print(data1000)\n",
    "#print(dataN1000)\n",
    "print(\" \")\n",
    "\n",
    "print(data10000)\n",
    "#print(dataN10000)\n",
    "print(\" \")\n",
    "\n",
    "print(data100000)\n",
    "#print(dataN100000)"
   ]
  },
  {
   "cell_type": "code",
   "execution_count": 19,
   "id": "c5f06e73",
   "metadata": {},
   "outputs": [
    {
     "name": "stdout",
     "output_type": "stream",
     "text": [
      "0.006458931717171719\n",
      "0.0005708218181818183\n",
      "6.799218036363635e-05\n",
      "5.4164527579797725e-06\n"
     ]
    }
   ],
   "source": [
    "import statistics as stats\n",
    "\n",
    "print(stats.variance(data100))\n",
    "print(stats.variance(data1000))\n",
    "print(stats.variance(data10000))\n",
    "print(stats.variance(data100000))"
   ]
  },
  {
   "cell_type": "code",
   "execution_count": 20,
   "id": "ffa5dbd5",
   "metadata": {},
   "outputs": [
    {
     "ename": "TypeError",
     "evalue": "unsupported operand type(s) for /: 'list' and 'int'",
     "output_type": "error",
     "traceback": [
      "\u001b[0;31m---------------------------------------------------------------------------\u001b[0m",
      "\u001b[0;31mTypeError\u001b[0m                                 Traceback (most recent call last)",
      "Input \u001b[0;32mIn [20]\u001b[0m, in \u001b[0;36m<cell line: 7>\u001b[0;34m()\u001b[0m\n\u001b[1;32m      4\u001b[0m var100000 \u001b[38;5;241m=\u001b[39m []\n\u001b[1;32m      6\u001b[0m \u001b[38;5;66;03m#for i in range(len(dataN100)):\u001b[39;00m\n\u001b[0;32m----> 7\u001b[0m p \u001b[38;5;241m=\u001b[39m \u001b[43mdata100\u001b[49m\u001b[38;5;241;43m/\u001b[39;49m\u001b[38;5;241;43m4\u001b[39;49m\n\u001b[1;32m      8\u001b[0m var1 \u001b[38;5;241m=\u001b[39m dataN100\u001b[38;5;241m*\u001b[39mp\u001b[38;5;241m*\u001b[39m(\u001b[38;5;241m1\u001b[39m\u001b[38;5;241m-\u001b[39mp)\n\u001b[1;32m      9\u001b[0m \u001b[38;5;28mprint\u001b[39m(var1)\n",
      "\u001b[0;31mTypeError\u001b[0m: unsupported operand type(s) for /: 'list' and 'int'"
     ]
    }
   ],
   "source": [
    "var100 = []\n",
    "var1000 = []\n",
    "var10000 = []\n",
    "var100000 = []\n",
    "\n",
    "#for i in range(len(dataN100)):\n",
    "p = data100/4\n",
    "var1 = dataN100*p*(1-p)\n",
    "print(var1)\n",
    "    \n",
    "for i in range(len(dataN1000)):\n",
    "    p = data1000[i]/4\n",
    "    var1 = dataN1000[i]*p*(1-p)\n",
    "    var1000.append(var1)\n",
    "    \n",
    "for i in range(len(dataN10000)):\n",
    "    p = data10000[i]/4\n",
    "    var1 = dataN10000[i]*p*(1-p)\n",
    "    var10000.append(var1)\n",
    "    \n",
    "for i in range(len(dataN100000)):\n",
    "    p = data100000[i]/4\n",
    "    var1 = dataN100000[i]*p*(1-p)\n",
    "    var100000.append(var1)\n",
    "    \n",
    "print(var100)\n",
    "print(var1000)\n",
    "print(var10000)\n",
    "print(var100000)"
   ]
  },
  {
   "cell_type": "code",
   "execution_count": null,
   "id": "09f5d64b",
   "metadata": {},
   "outputs": [],
   "source": []
  }
 ],
 "metadata": {
  "kernelspec": {
   "display_name": "Python 3 (ipykernel)",
   "language": "python",
   "name": "python3"
  },
  "language_info": {
   "codemirror_mode": {
    "name": "ipython",
    "version": 3
   },
   "file_extension": ".py",
   "mimetype": "text/x-python",
   "name": "python",
   "nbconvert_exporter": "python",
   "pygments_lexer": "ipython3",
   "version": "3.8.5"
  }
 },
 "nbformat": 4,
 "nbformat_minor": 5
}
