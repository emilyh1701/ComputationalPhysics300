{
 "cells": [
  {
   "cell_type": "markdown",
   "id": "e084958b",
   "metadata": {},
   "source": [
    "## 3.5 Homework\n",
    "### Two Interacting Einstein Solids\n",
    "\n",
    "We already learned that Einstein proposed that a model that each atom is pretty much a harmonic oscillator \n",
    "because it is attached by some springs to the adjacent atoms in the crystal lattice. $N$ is the number of\n",
    "oscillators, while $q$ is the quantized energy for each oscillator.\n",
    "\n",
    "The generalized form to calculate the multiplicity for a give ($N,q$) is \n",
    " $$\\Omega(N, q) = \\binom{q+N-1}{q} = \\frac{(q+N-1)!}{q!(N-1)!}$$\n",
    "    \n",
    "Now let us consider two interacting Einstein solids.\n",
    "\n",
    "\n",
    "Assuming that $A$ and $B$ are weakly coupled (just like ideal gas), the individual energies\n",
    "of the solids, $q_A$ and $q_B$ will change slowly. Under this assumption, the total number of energies $q_\\text{total}$ will\n",
    "be simply the sum of  $q_A$ and $q_B$.\n",
    "\n",
    "\n",
    "\n",
    "To make life easier, let's fix $q_\\text{total}$.\n",
    "\n",
    "What's the $\\Omega$ for any arbitary $q_A$? If we just count $A$,\n",
    " $$\\Omega(A) = \\binom{q_A+N_A-1}{q_A} = \\frac{(q_A+N_A-1)!}{q_A!(N_A-1)!}$$\n",
    " \n",
    "Similarly\n",
    " $$\\Omega(B) = \\binom{q_B+N_B-1}{q_B} = \\frac{(q_B+N_B-1)!}{q_B!(N_B-1)!}$$\n",
    " \n",
    "And the total number follows\n",
    "\n",
    " $$\\Omega(\\text{total}) = \\Omega(A)  \\Omega(B) $$\n",
    "\n",
    "We have the following table when $q_A + q_B = 2, N_A = N_B = 3$.\n",
    "\n",
    "|q(A)| O(A) | q(B) | O(B) | O(total)|\n",
    "|:--:|:-----------:|:----:|:-----------:|:-------:|\n",
    "|0   |      1      |   2  |     3       |    3    |\n",
    "|1   |      3      |   1  |     3       |    9    |\n",
    "|2   |      3      |   0  |     1       |    3    |\n",
    "\n",
    "\n",
    "\n",
    "### Coding:\n",
    "\n",
    "Write a code to calculate as a function of $q_A$, when \n",
    "\n",
    "1, $N_A$=300, $N_B$=200, and $q$=100\n",
    "\n",
    "2, $N_A$=3000, $N_B$=2000, and $q$=100\n",
    "    \n",
    "plot them and try to find some tendency when $N$ increases."
   ]
  },
  {
   "cell_type": "code",
   "execution_count": 31,
   "id": "2a2e17d4",
   "metadata": {},
   "outputs": [],
   "source": [
    "import matplotlib.pyplot as plt\n",
    "from math import log, exp\n",
    "\n",
    "def factor(N):\n",
    "    \n",
    "    \"\"\"This function calculates the factorial of a number\"\"\"\n",
    "    \n",
    "    if N == 0 or N == 1:\n",
    "        return 1\n",
    "    else: \n",
    "        total = 1\n",
    "        for i in range(2, N + 1):\n",
    "            total *= i\n",
    "        return total     \n",
    "             \n",
    "def Multiplicity(N, q):\n",
    "    \n",
    "    \"\"\"This function calculates Total Omega\"\"\"\n",
    "    \n",
    "    return exp(log(factor(N)) - log(factor(q)) - log(factor(N-q)))\n"
   ]
  },
  {
   "cell_type": "code",
   "execution_count": 32,
   "id": "cffa4c6a",
   "metadata": {},
   "outputs": [
    {
     "name": "stdout",
     "output_type": "stream",
     "text": [
      "type a value for N_A: 300\n",
      "type a value for N_B: 200\n",
      "type total number of energies (q): 100\n"
     ]
    },
    {
     "data": {
      "image/png": "[encoded data removed]",
      "text/plain": [
       "<Figure size 432x288 with 1 Axes>"
      ]
     },
     "metadata": {
      "needs_background": "light"
     },
     "output_type": "display_data"
    }
   ],
   "source": [
    "Na = int(input(\"type a value for N_A: \")) # N_A is the number of oscillators A\n",
    "Nb = int(input(\"type a value for N_B: \")) #N_B is the number of oscillators B\n",
    "q_total = int(input(\"type total number of energies (q): \"))\n",
    "               \n",
    "qa_list = range(q_total)\n",
    "omega_total = []\n",
    "\n",
    "for qa in qa_list:\n",
    "    qb = q_total - qa\n",
    "    omega_a = Multiplicity(Na, qa)\n",
    "    omega_b = Multiplicity(Nb, qb)\n",
    "    omega_total.append(omega_a*omega_b)\n",
    "\n",
    "plt.plot(qa_list, omega_total)    \n",
    "plt.xlabel('$q_a$')\n",
    "plt.ylabel('$\\Omega$')\n",
    "plt.show()"
   ]
  },
  {
   "cell_type": "code",
   "execution_count": 33,
   "id": "2a83e814",
   "metadata": {},
   "outputs": [
    {
     "name": "stdout",
     "output_type": "stream",
     "text": [
      "type a value for N_A: 3000\n",
      "type a value for N_B: 2000\n",
      "type total number of energies (q): 100\n"
     ]
    },
    {
     "data": {
      "image/png": "[encoded data removed]",
      "text/plain": [
       "<Figure size 432x288 with 1 Axes>"
      ]
     },
     "metadata": {
      "needs_background": "light"
     },
     "output_type": "display_data"
    }
   ],
   "source": [
    "Na = int(input(\"type a value for N_A: \")) # N_A is the number of oscillators A\n",
    "Nb = int(input(\"type a value for N_B: \")) #N_B is the number of oscillators B\n",
    "q_total = int(input(\"type total number of energies (q): \"))\n",
    "               \n",
    "qa_list = range(q_total)\n",
    "omega_total = []\n",
    "\n",
    "for qa in qa_list:\n",
    "    qb = q_total - qa\n",
    "    omega_a = Multiplicity(Na, qa)\n",
    "    omega_b = Multiplicity(Nb, qb)\n",
    "    omega_total.append(omega_a*omega_b)\n",
    "\n",
    "plt.plot(qa_list, omega_total)    \n",
    "plt.xlabel('$q_a$')\n",
    "plt.ylabel('$\\Omega$')\n",
    "plt.show()"
   ]
  },
  {
   "cell_type": "markdown",
   "id": "5ebbb940",
   "metadata": {},
   "source": [
    "As $N$ increases, we still maintain our peak multiplicity occurs at $q_a = 60$ since we fixed our $q_{total}$ to be $100$. In terms of multiplicity itself, when changing $N$ by a factor of $1000$, our values of $\\Omega_{total}$ are increased by a square factor. For the first plot we see our scale is of $1*10^{106}$ and our second plot has a scale of $1*10^{210}$ for $\\Omega_{total}$."
   ]
  }
 ],
 "metadata": {
  "kernelspec": {
   "display_name": "Python 3 (ipykernel)",
   "language": "python",
   "name": "python3"
  },
  "language_info": {
   "codemirror_mode": {
    "name": "ipython",
    "version": 3
   },
   "file_extension": ".py",
   "mimetype": "text/x-python",
   "name": "python",
   "nbconvert_exporter": "python",
   "pygments_lexer": "ipython3",
   "version": "3.8.5"
  }
 },
 "nbformat": 4,
 "nbformat_minor": 5
}
