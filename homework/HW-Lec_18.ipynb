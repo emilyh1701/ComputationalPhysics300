{
 "cells": [
  {
   "cell_type": "code",
   "execution_count": 9,
   "id": "583b18d3",
   "metadata": {},
   "outputs": [],
   "source": [
    "import numpy as np\n",
    "import requests\n",
    "from scipy.optimize import minimize\n",
    "\n",
    "def LJ(r):\n",
    "    r6 = r**6\n",
    "    r12 = r6*r6\n",
    "    return 4*(1/r12 - 1/r6)\n",
    "\n",
    "def total_energy(positions):\n",
    "    \"\"\"\n",
    "    Calculate the total energy\n",
    "    input:\n",
    "    positions: 3*N array which represents the atomic positions\n",
    "    output\n",
    "    E: the total energy\n",
    "    \"\"\"\n",
    "    E = 0\n",
    "    N_atom = int(len(positions)/3)\n",
    "\n",
    "    #positions = [x0, y0, z0, x1, y1, z1, .....  , xn, yn, zn]\n",
    "    for i in range(N_atom-1):\n",
    "        for j in range(i+1, N_atom):\n",
    "            pos1 = positions[i*3:(i+1)*3]\n",
    "            pos2 = positions[j*3:(j+1)*3]\n",
    "            #print('pos1:  ', pos1)\n",
    "            #print('pos2:  ', pos2)\n",
    "            dist = np.linalg.norm(pos1-pos2)\n",
    "            #print(i,j, dist)\n",
    "            E += LJ(dist)\n",
    "    return E"
   ]
  },
  {
   "cell_type": "code",
   "execution_count": 7,
   "id": "6d30d641",
   "metadata": {},
   "outputs": [],
   "source": [
    "def get_pos_from_url(address='http://doye.chem.ox.ac.uk/jon/structures/LJ/points/', N=7):\n",
    "    url_address = address + str(N)\n",
    "    data_str = requests.get(url_address).text\n",
    "    return parse_url_text(data_str)    \n",
    "    \n",
    "def parse_url_text(data_str):\n",
    "    x_array = []\n",
    "    text = data_str.split('\\n')\n",
    "    for line in text:\n",
    "        [x_array.append(float(i)) for i in line.split()]\n",
    "    return np.array(x_array)"
   ]
  },
  {
   "cell_type": "code",
   "execution_count": 24,
   "id": "0200e95e",
   "metadata": {},
   "outputs": [
    {
     "data": {
      "text/plain": [
       "-19.821489187804726"
      ]
     },
     "execution_count": 24,
     "metadata": {},
     "output_type": "execute_result"
    }
   ],
   "source": [
    "pos = get_pos_from_url(N=8)\n",
    "total_energy(pos)"
   ]
  },
  {
   "cell_type": "markdown",
   "id": "91c886d2",
   "metadata": {},
   "source": [
    "For $N=8$:"
   ]
  },
  {
   "cell_type": "code",
   "execution_count": 30,
   "id": "b395c46b",
   "metadata": {},
   "outputs": [
    {
     "name": "stdout",
     "output_type": "stream",
     "text": [
      "CG method\n",
      "Optimization terminated successfully.\n",
      "         Current function value: -19.821489\n",
      "         Iterations: 4\n",
      "         Function evaluations: 200\n",
      "         Gradient evaluations: 8\n",
      "47.4 ns ± 4.51 ns per loop (mean ± std. dev. of 7 runs, 10,000,000 loops each)\n",
      " \n",
      "nelder-mead method\n",
      "Optimization terminated successfully.\n",
      "         Current function value: -19.821489\n",
      "         Iterations: 493\n",
      "         Function evaluations: 817\n",
      "48.1 ns ± 1.18 ns per loop (mean ± std. dev. of 7 runs, 10,000,000 loops each)\n",
      " \n",
      "BFGS method\n",
      "Optimization terminated successfully.\n",
      "         Current function value: -19.821489\n",
      "         Iterations: 15\n",
      "         Function evaluations: 500\n",
      "         Gradient evaluations: 20\n",
      "45.6 ns ± 0.38 ns per loop (mean ± std. dev. of 7 runs, 10,000,000 loops each)\n",
      " \n",
      "SLSQP method\n",
      "Optimization terminated successfully    (Exit mode 0)\n",
      "            Current function value: -19.821489187804726\n",
      "            Iterations: 1\n",
      "            Function evaluations: 25\n",
      "            Gradient evaluations: 1\n",
      "63.1 ns ± 18.5 ns per loop (mean ± std. dev. of 7 runs, 10,000,000 loops each)\n",
      " \n",
      "powell method\n",
      "Optimization terminated successfully.\n",
      "         Current function value: -19.821489\n",
      "         Iterations: 1\n",
      "         Function evaluations: 369\n",
      "72.2 ns ± 18 ns per loop (mean ± std. dev. of 7 runs, 10,000,000 loops each)\n"
     ]
    }
   ],
   "source": [
    "print(\"CG method\")\n",
    "res1 = minimize(total_energy, pos, method = 'CG',tol = 1e-4, \n",
    "               options = {'disp': True})\n",
    "%timeit res1\n",
    "print(\" \")\n",
    "\n",
    "print(\"nelder-mead method\")\n",
    "res2 = minimize(total_energy, pos, method = 'nelder-mead', tol = 1e-4, \n",
    "               options = {'disp': True})\n",
    "%timeit res2\n",
    "print(\" \")\n",
    "\n",
    "print(\"BFGS method\")\n",
    "res3 = minimize(total_energy, pos, method = 'BFGS', tol = 1e-4, \n",
    "               options = {'disp': True})\n",
    "%timeit res3\n",
    "print(\" \")\n",
    "\n",
    "print(\"SLSQP method\")\n",
    "res4 = minimize(total_energy, pos, method = 'SLSQP', tol = 1e-4, \n",
    "               options = {'disp': True})\n",
    "%timeit res4\n",
    "print(\" \")\n",
    "\n",
    "print(\"powell method\")\n",
    "res5 = minimize(total_energy, pos, method = 'powell', tol = 1e-4, \n",
    "               options = {'disp': True})\n",
    "%timeit res5"
   ]
  },
  {
   "cell_type": "markdown",
   "id": "8a881310",
   "metadata": {},
   "source": [
    "For $N=10$:"
   ]
  },
  {
   "cell_type": "code",
   "execution_count": 32,
   "id": "c934fbd1",
   "metadata": {},
   "outputs": [
    {
     "data": {
      "text/plain": [
       "-28.422531893437565"
      ]
     },
     "execution_count": 32,
     "metadata": {},
     "output_type": "execute_result"
    }
   ],
   "source": [
    "pos = get_pos_from_url(N=10)\n",
    "total_energy(pos)"
   ]
  },
  {
   "cell_type": "code",
   "execution_count": 33,
   "id": "fdc6dd60",
   "metadata": {},
   "outputs": [
    {
     "name": "stdout",
     "output_type": "stream",
     "text": [
      "CG method\n",
      "Optimization terminated successfully.\n",
      "         Current function value: -28.422532\n",
      "         Iterations: 0\n",
      "         Function evaluations: 31\n",
      "         Gradient evaluations: 1\n",
      "51.8 ns ± 7.65 ns per loop (mean ± std. dev. of 7 runs, 10,000,000 loops each)\n",
      " \n",
      "nelder-mead method\n",
      "Optimization terminated successfully.\n",
      "         Current function value: -28.422532\n",
      "         Iterations: 555\n",
      "         Function evaluations: 916\n",
      "52.8 ns ± 4.3 ns per loop (mean ± std. dev. of 7 runs, 10,000,000 loops each)\n",
      " \n",
      "BFGS method\n",
      "Optimization terminated successfully.\n",
      "         Current function value: -28.422532\n",
      "         Iterations: 0\n",
      "         Function evaluations: 31\n",
      "         Gradient evaluations: 1\n",
      "47.3 ns ± 3.44 ns per loop (mean ± std. dev. of 7 runs, 10,000,000 loops each)\n",
      " \n",
      "SLSQP method\n",
      "Optimization terminated successfully    (Exit mode 0)\n",
      "            Current function value: -28.422531893437565\n",
      "            Iterations: 1\n",
      "            Function evaluations: 31\n",
      "            Gradient evaluations: 1\n",
      "47.7 ns ± 3.02 ns per loop (mean ± std. dev. of 7 runs, 10,000,000 loops each)\n",
      " \n",
      "powell method\n",
      "Optimization terminated successfully.\n",
      "         Current function value: -28.422532\n",
      "         Iterations: 1\n",
      "         Function evaluations: 731\n",
      "47.2 ns ± 2.68 ns per loop (mean ± std. dev. of 7 runs, 10,000,000 loops each)\n"
     ]
    }
   ],
   "source": [
    "print(\"CG method\")\n",
    "res1 = minimize(total_energy, pos, method = 'CG',tol = 1e-4, \n",
    "               options = {'disp': True})\n",
    "%timeit res1\n",
    "print(\" \")\n",
    "\n",
    "print(\"nelder-mead method\")\n",
    "res2 = minimize(total_energy, pos, method = 'nelder-mead', tol = 1e-4, \n",
    "               options = {'disp': True})\n",
    "%timeit res2\n",
    "print(\" \")\n",
    "\n",
    "print(\"BFGS method\")\n",
    "res3 = minimize(total_energy, pos, method = 'BFGS', tol = 1e-4, \n",
    "               options = {'disp': True})\n",
    "%timeit res3\n",
    "print(\" \")\n",
    "\n",
    "print(\"SLSQP method\")\n",
    "res4 = minimize(total_energy, pos, method = 'SLSQP', tol = 1e-4, \n",
    "               options = {'disp': True})\n",
    "%timeit res4\n",
    "print(\" \")\n",
    "\n",
    "print(\"powell method\")\n",
    "res5 = minimize(total_energy, pos, method = 'powell', tol = 1e-4, \n",
    "               options = {'disp': True})\n",
    "%timeit res5"
   ]
  },
  {
   "cell_type": "markdown",
   "id": "ea096f55",
   "metadata": {},
   "source": [
    "For $N=13$:"
   ]
  },
  {
   "cell_type": "code",
   "execution_count": 34,
   "id": "3eac1a74",
   "metadata": {},
   "outputs": [
    {
     "data": {
      "text/plain": [
       "-44.32680141873467"
      ]
     },
     "execution_count": 34,
     "metadata": {},
     "output_type": "execute_result"
    }
   ],
   "source": [
    "pos = get_pos_from_url(N=13)\n",
    "total_energy(pos)"
   ]
  },
  {
   "cell_type": "code",
   "execution_count": 35,
   "id": "356740ea",
   "metadata": {},
   "outputs": [
    {
     "name": "stdout",
     "output_type": "stream",
     "text": [
      "CG method\n",
      "Optimization terminated successfully.\n",
      "         Current function value: -44.326801\n",
      "         Iterations: 1\n",
      "         Function evaluations: 120\n",
      "         Gradient evaluations: 3\n",
      "50.2 ns ± 5.11 ns per loop (mean ± std. dev. of 7 runs, 10,000,000 loops each)\n",
      " \n",
      "nelder-mead method\n",
      "Optimization terminated successfully.\n",
      "         Current function value: -44.326801\n",
      "         Iterations: 595\n",
      "         Function evaluations: 1012\n",
      "45.9 ns ± 0.483 ns per loop (mean ± std. dev. of 7 runs, 10,000,000 loops each)\n",
      " \n",
      "BFGS method\n",
      "Optimization terminated successfully.\n",
      "         Current function value: -44.326801\n",
      "         Iterations: 1\n",
      "         Function evaluations: 120\n",
      "         Gradient evaluations: 3\n",
      "48.7 ns ± 1.21 ns per loop (mean ± std. dev. of 7 runs, 10,000,000 loops each)\n",
      " \n",
      "SLSQP method\n",
      "Optimization terminated successfully    (Exit mode 0)\n",
      "            Current function value: -44.32680141873467\n",
      "            Iterations: 1\n",
      "            Function evaluations: 40\n",
      "            Gradient evaluations: 1\n",
      "46 ns ± 0.238 ns per loop (mean ± std. dev. of 7 runs, 10,000,000 loops each)\n",
      " \n",
      "powell method\n",
      "Optimization terminated successfully.\n",
      "         Current function value: -44.326801\n",
      "         Iterations: 1\n",
      "         Function evaluations: 762\n",
      "46.3 ns ± 0.188 ns per loop (mean ± std. dev. of 7 runs, 10,000,000 loops each)\n"
     ]
    }
   ],
   "source": [
    "print(\"CG method\")\n",
    "res1 = minimize(total_energy, pos, method = 'CG',tol = 1e-4, \n",
    "               options = {'disp': True})\n",
    "%timeit res1\n",
    "print(\" \")\n",
    "\n",
    "print(\"nelder-mead method\")\n",
    "res2 = minimize(total_energy, pos, method = 'nelder-mead', tol = 1e-4, \n",
    "               options = {'disp': True})\n",
    "%timeit res2\n",
    "print(\" \")\n",
    "\n",
    "print(\"BFGS method\")\n",
    "res3 = minimize(total_energy, pos, method = 'BFGS', tol = 1e-4, \n",
    "               options = {'disp': True})\n",
    "%timeit res3\n",
    "print(\" \")\n",
    "\n",
    "print(\"SLSQP method\")\n",
    "res4 = minimize(total_energy, pos, method = 'SLSQP', tol = 1e-4, \n",
    "               options = {'disp': True})\n",
    "%timeit res4\n",
    "print(\" \")\n",
    "\n",
    "print(\"powell method\")\n",
    "res5 = minimize(total_energy, pos, method = 'powell', tol = 1e-4, \n",
    "               options = {'disp': True})\n",
    "%timeit res5"
   ]
  }
 ],
 "metadata": {
  "kernelspec": {
   "display_name": "Python 3 (ipykernel)",
   "language": "python",
   "name": "python3"
  },
  "language_info": {
   "codemirror_mode": {
    "name": "ipython",
    "version": 3
   },
   "file_extension": ".py",
   "mimetype": "text/x-python",
   "name": "python",
   "nbconvert_exporter": "python",
   "pygments_lexer": "ipython3",
   "version": "3.9.12"
  }
 },
 "nbformat": 4,
 "nbformat_minor": 5
}
