{
 "cells": [
  {
   "cell_type": "code",
   "execution_count": 12,
   "id": "5aea0f76",
   "metadata": {},
   "outputs": [
    {
     "data": {
      "text/plain": [
       "\"\\nArgs: \\n\\nscipy.optimize.differential_evolution(func, bounds, args=(), \\nstrategy='best1bin', maxiter=1000, popsize=15, tol=0.01, mutation=(0.5, 1),\\nrecombination=0.7, seed=None, callback=None, disp=False, polish=True, \\ninit='latinhypercube', atol=0, updating='immediate', workers=1, \\nconstraints=(), x0=None, *, integrality=None, vectorized=False)\\n\\n\""
      ]
     },
     "execution_count": 12,
     "metadata": {},
     "output_type": "execute_result"
    }
   ],
   "source": [
    "\"\"\"\n",
    "Args: \n",
    "\n",
    "scipy.optimize.differential_evolution(func, bounds, args=(), \n",
    "strategy='best1bin', maxiter=1000, popsize=15, tol=0.01, mutation=(0.5, 1),\n",
    "recombination=0.7, seed=None, callback=None, disp=False, polish=True, \n",
    "init='latinhypercube', atol=0, updating='immediate', workers=1, \n",
    "constraints=(), x0=None, *, integrality=None, vectorized=False)\n",
    "\n",
    "\"\"\""
   ]
  },
  {
   "cell_type": "code",
   "execution_count": 2,
   "id": "c5af6233",
   "metadata": {},
   "outputs": [],
   "source": [
    "from scipy.optimize import differential_evolution\n",
    "from scipy.optimize import minimize\n",
    "import numpy as np\n",
    "from random import sample\n",
    "from numba import jit\n",
    "from time import time"
   ]
  },
  {
   "cell_type": "code",
   "execution_count": 6,
   "id": "9dd98cb7",
   "metadata": {},
   "outputs": [],
   "source": [
    "@jit\n",
    "def LJ(r):\n",
    "    r6 = r**6\n",
    "    r12 = r6*r6\n",
    "    return 4*(1/r12 - 1/r6)\n",
    "\n",
    "@jit\n",
    "def get_r_values(positions):\n",
    "    \"\"\"\n",
    "    Returns total energy of LJ cluster.\n",
    "    \n",
    "    parameters: positions -- N x 3 2d-array of the (x,y,z) positions of each atom.\n",
    "    return: total energy of LJ cluster.\n",
    "    \"\"\"\n",
    "    # calculate distances between each pair of atoms (store results as r_values)\n",
    "    p = positions\n",
    "    r_values = []\n",
    "    for i in range(len(positions)):\n",
    "        for j in range(i, len(positions)):\n",
    "            if i != j:\n",
    "                distance = np.sqrt((p[i,0]-p[j,0])**2 + (p[i,1]-p[j,1])**2 + (p[i,2]-p[j,2])**2)\n",
    "                r_values.append(p[i,0])\n",
    "                \n",
    "    return r_values\n",
    "\n",
    "def get_total_energy(r_values):\n",
    "    # calculate LJ energies of each distance and return the sum\n",
    "    E = 0\n",
    "    for r in r_values:\n",
    "        E += LJ(r)\n",
    "    return E"
   ]
  },
  {
   "cell_type": "code",
   "execution_count": 11,
   "id": "8fe82468",
   "metadata": {},
   "outputs": [
    {
     "name": "stdout",
     "output_type": "stream",
     "text": [
      "Positions: [[1.6325714  2.92580136 7.62850976]\n",
      " [0.93366264 1.74583957 5.12886129]\n",
      " [5.61351565 4.28405412 9.71521105]\n",
      " [5.00648675 1.69353182 3.28335227]\n",
      " [6.02935102 5.58857424 7.10981575]]\n",
      "Total energy: 8.430421541694212\n",
      "Calculated minimum energy: -9.999999999996064\n"
     ]
    }
   ],
   "source": [
    "r_min, r_max = 1, 3\n",
    "N = 5\n",
    "\n",
    "positions = []\n",
    "bounds = []\n",
    "\n",
    "for i in range(N):\n",
    "    positions.append(10 * np.random.random(3))\n",
    "\n",
    "positions = np.asarray(positions)\n",
    "r_values = get_r_values(positions)\n",
    "\n",
    "for i in range(len(r_values)):\n",
    "    bounds.append((r_min, r_max))\n",
    "    \n",
    "print(\"Positions:\", positions)\n",
    "\n",
    "total_energy = get_total_energy(r_values)\n",
    "\n",
    "print(\"Total energy:\", total_energy)\n",
    "\n",
    "res = differential_evolution(get_total_energy, bounds)\n",
    "\n",
    "print(\"Calculated minimum energy:\", res.fun)"
   ]
  },
  {
   "cell_type": "code",
   "execution_count": null,
   "id": "2c332b67",
   "metadata": {},
   "outputs": [],
   "source": []
  }
 ],
 "metadata": {
  "kernelspec": {
   "display_name": "Python 3 (ipykernel)",
   "language": "python",
   "name": "python3"
  },
  "language_info": {
   "codemirror_mode": {
    "name": "ipython",
    "version": 3
   },
   "file_extension": ".py",
   "mimetype": "text/x-python",
   "name": "python",
   "nbconvert_exporter": "python",
   "pygments_lexer": "ipython3",
   "version": "3.9.12"
  }
 },
 "nbformat": 4,
 "nbformat_minor": 5
}
