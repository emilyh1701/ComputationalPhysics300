{
 "cells": [
  {
   "cell_type": "markdown",
   "id": "ac3075b5",
   "metadata": {},
   "source": [
    "## 12.4 Homework\n",
    "\n",
    "1. Calculate a value for the integral\n",
    "\n",
    "$$ I = \\int_0 ^1 \\frac{x^{-1/2}}{e^x + 1} dx $$\n",
    "\n",
    "using the importance sampling method with $w(x) = x^{-1/2}$, with 1,000,000 random points."
   ]
  },
  {
   "cell_type": "code",
   "execution_count": 1,
   "id": "93a2a785",
   "metadata": {},
   "outputs": [
    {
     "name": "stderr",
     "output_type": "stream",
     "text": [
      "/var/folders/04/r2qmcyd17sg5xm7k2qb4cm0m0000gn/T/ipykernel_79552/3778078418.py:6: RuntimeWarning: divide by zero encountered in true_divide\n",
      "  f = lambda x: 1/np.sqrt(x)/(np.exp(x)+1)\n",
      "/var/folders/04/r2qmcyd17sg5xm7k2qb4cm0m0000gn/T/ipykernel_79552/3778078418.py:7: RuntimeWarning: divide by zero encountered in true_divide\n",
      "  w = lambda x: 1/np.sqrt(x)\n"
     ]
    },
    {
     "data": {
      "image/png": "[encoded data removed]",
      "text/plain": [
       "<Figure size 432x288 with 1 Axes>"
      ]
     },
     "metadata": {
      "needs_background": "light"
     },
     "output_type": "display_data"
    }
   ],
   "source": [
    "# Divergence problem\n",
    "import matplotlib.pyplot as plt\n",
    "import numpy as np\n",
    "from math import pi\n",
    "\n",
    "f = lambda x: 1/np.sqrt(x)/(np.exp(x)+1)\n",
    "w = lambda x: 1/np.sqrt(x)\n",
    "\n",
    "x = np.linspace(0,1,100)\n",
    "plt.plot(x, f(x), label='f(x)')\n",
    "plt.plot(x, w(x), label='w(x)')\n",
    "\n",
    "plt.legend()\n",
    "plt.show()"
   ]
  },
  {
   "cell_type": "markdown",
   "id": "a58862b2",
   "metadata": {},
   "source": [
    "$$ p(x) = \\frac{\\frac{1}{\\sqrt{x}}}{\\int_0^1 \\frac{1}{\\sqrt{x}}dx} $$\n",
    "\n",
    "$$ p(x) = \\frac{1}{2}\\frac{1}{\\sqrt{x}}$$\n",
    "\n",
    "$$ F(x) = \\int_0^x p(x)dx$$\n",
    "\n",
    "$$ F(x) = \\int_0^x \\frac{1}{2}\\frac{1}{\\sqrt{x}}dx = 4\\sqrt{x}$$\n",
    "\n",
    "$$ F^{-1}(x) = (\\frac{x}{4})^2$$"
   ]
  },
  {
   "cell_type": "code",
   "execution_count": 7,
   "id": "a8d4cf6f",
   "metadata": {},
   "outputs": [
    {
     "name": "stdout",
     "output_type": "stream",
     "text": [
      "0.9895784672307592\n"
     ]
    }
   ],
   "source": [
    "# Importance Monte Carlo\n",
    "from scipy.integrate import quad\n",
    "from random import random \n",
    "\n",
    "f = lambda x: 1/np.sqrt(x)/(np.exp(x)+1)\n",
    "w = lambda x: 1/np.sqrt(x) #integral of w(x) should be analytically solvable.\n",
    "invF = lambda x: (x/4)**2\n",
    "\n",
    "def IMC(N):\n",
    "    const = quad(w, 0, 1)[0]\n",
    "    I = 0\n",
    "    for i in range(N):\n",
    "        x = random()\n",
    "        y = invF(x)\n",
    "        I += f(y)/w(y)\n",
    "    return I/N*const\n",
    "\n",
    "print(IMC(1000000))"
   ]
  },
  {
   "cell_type": "markdown",
   "id": "27a4ea72",
   "metadata": {},
   "source": [
    "2. Calculate a value for the integral\n",
    "\n",
    "$$ I = \\int_0 ^1 \\frac{x^{-1}}{e^x + 1} dx $$\n",
    "\n",
    "using the importance sampling method with $w(x) = 1/x$, with 1,000,000 random points."
   ]
  },
  {
   "cell_type": "code",
   "execution_count": 4,
   "id": "058fca27",
   "metadata": {},
   "outputs": [
    {
     "name": "stderr",
     "output_type": "stream",
     "text": [
      "/var/folders/04/r2qmcyd17sg5xm7k2qb4cm0m0000gn/T/ipykernel_79552/46994538.py:1: RuntimeWarning: divide by zero encountered in true_divide\n",
      "  f = lambda x: 1/x/(np.exp(x)+1)\n",
      "/var/folders/04/r2qmcyd17sg5xm7k2qb4cm0m0000gn/T/ipykernel_79552/46994538.py:2: RuntimeWarning: divide by zero encountered in true_divide\n",
      "  w = lambda x: 1/x\n"
     ]
    },
    {
     "data": {
      "image/png": "[encoded data removed]",
      "text/plain": [
       "<Figure size 432x288 with 1 Axes>"
      ]
     },
     "metadata": {
      "needs_background": "light"
     },
     "output_type": "display_data"
    }
   ],
   "source": [
    "f = lambda x: 1/x/(np.exp(x)+1)\n",
    "w = lambda x: 1/x\n",
    "\n",
    "x = np.linspace(0,1,100)\n",
    "plt.plot(x, f(x), label='f(x)')\n",
    "plt.plot(x, w(x), label='w(x)')\n",
    "\n",
    "plt.legend()\n",
    "plt.show()"
   ]
  },
  {
   "cell_type": "markdown",
   "id": "4c828e1d",
   "metadata": {},
   "source": [
    "$$ p(x) = \\frac{\\frac{1}{\\sqrt{x}}}{\\int_0^1 \\frac{1}{\\sqrt{x}}dx} $$\n",
    "\n",
    "$$ p(x) = \\frac{1}{2}\\frac{1}{\\sqrt{x}}$$\n",
    "\n",
    "$$ F(x) = \\int_0^x p(x)dx$$\n",
    "\n",
    "$$ F(x) = \\int_0^x \\frac{1}{2}\\frac{1}{\\sqrt{x}}dx = 4\\sqrt{x}$$\n",
    "\n",
    "$$ F^{-1}(x) = (\\frac{x}{4})^2$$"
   ]
  },
  {
   "cell_type": "code",
   "execution_count": 6,
   "id": "c449e9c9",
   "metadata": {},
   "outputs": [
    {
     "name": "stdout",
     "output_type": "stream",
     "text": [
      "17.62569239638002\n"
     ]
    },
    {
     "name": "stderr",
     "output_type": "stream",
     "text": [
      "/var/folders/04/r2qmcyd17sg5xm7k2qb4cm0m0000gn/T/ipykernel_79552/2230603277.py:6: IntegrationWarning: The maximum number of subdivisions (50) has been achieved.\n",
      "  If increasing the limit yields no improvement it is advised to analyze \n",
      "  the integrand in order to determine the difficulties.  If the position of a \n",
      "  local difficulty can be determined (singularity, discontinuity) one will \n",
      "  probably gain from splitting up the interval and calling the integrator \n",
      "  on the subranges.  Perhaps a special-purpose integrator should be used.\n",
      "  const = quad(w, 0, 1)[0]\n"
     ]
    }
   ],
   "source": [
    "f = lambda x: 1/x/(np.exp(x)+1)\n",
    "w = lambda x: 1/x #integral of w(x) should be analytically solvable.\n",
    "invF = lambda x: x**2 #What would our invF be if 1/x is analytically unsolvable from 0 to 1?\n",
    "\n",
    "def IMC(N):\n",
    "    const = quad(w, 0, 1)[0]\n",
    "    I = 0\n",
    "    for i in range(N):\n",
    "        x = random()\n",
    "        y = invF(x)\n",
    "        I += f(y)/w(y)\n",
    "    return I/N*const\n",
    "\n",
    "print(IMC(1000))"
   ]
  },
  {
   "cell_type": "code",
   "execution_count": null,
   "id": "25acb1ee",
   "metadata": {},
   "outputs": [],
   "source": []
  }
 ],
 "metadata": {
  "kernelspec": {
   "display_name": "Python 3 (ipykernel)",
   "language": "python",
   "name": "python3"
  },
  "language_info": {
   "codemirror_mode": {
    "name": "ipython",
    "version": 3
   },
   "file_extension": ".py",
   "mimetype": "text/x-python",
   "name": "python",
   "nbconvert_exporter": "python",
   "pygments_lexer": "ipython3",
   "version": "3.8.5"
  }
 },
 "nbformat": 4,
 "nbformat_minor": 5
}
