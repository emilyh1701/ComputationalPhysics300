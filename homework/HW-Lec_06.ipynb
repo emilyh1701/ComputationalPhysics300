{
 "cells": [
  {
   "cell_type": "markdown",
   "id": "d3f191bc",
   "metadata": {},
   "source": [
    "## 6.4 Homework\n",
    "\n",
    "### 6.4.1 Try to find a way to deal with the noisy data and give your reasoning.\n",
    "find data, calculate derivative, and then find a way to deal with noisy data and smooth out the graph.\n",
    "\n",
    "### 6.4.2 Heat capacity of a solid\n",
    "Debye's thory of solids gives the heat capacity of a solid at temperature $T$ to be\n",
    "\n",
    "$$C_V = 9V\\rho k_B (\\frac{T}{\\theta_D})^3 \\int_0^{\\theta_D/T} \\frac{x^4e^x}{(e^x-1)^2}dx$$\n",
    "\n",
    "where $V$ is the volume of the solid, $\\rho$ is the density of atoms, $k_B$ is Boltzmann constant, and $\\theta$ is the Debye temperature.\n",
    "\n",
    "- Write a program to calculate $C_V$ for a given value of $T$ for a sample of 1000 $cm^3$ of aluminum, in which the density $\\rho$ is 6.022 $\\times 10^{28} m^3$ and $\\theta_D$ = 428 K. \n",
    "\n",
    "- Choose at least one way to do the integral from the followings\n",
    "     - Simpson or trapezoid rule by yourself\n",
    "     - one built-function from scipy\n",
    "\n",
    "- Plot $C_V$ as a function of temperature from $T$ = 5 K to $T$ = 500 K."
   ]
  },
  {
   "cell_type": "code",
   "execution_count": 7,
   "id": "18e015e8",
   "metadata": {},
   "outputs": [
    {
     "name": "stdout",
     "output_type": "stream",
     "text": [
      "25.77414739579257\n"
     ]
    },
    {
     "data": {
      "image/png": "[encoded data removed]",
      "text/plain": [
       "<Figure size 432x288 with 1 Axes>"
      ]
     },
     "metadata": {
      "needs_background": "light"
     },
     "output_type": "display_data"
    }
   ],
   "source": [
    "#This code is for problem 6.4.2\n",
    "\n",
    "import scipy.integrate as integrate\n",
    "import matplotlib.pyplot as plt\n",
    "import numpy as np\n",
    "\n",
    "\n",
    "def integration(v, p, temp, theta):\n",
    "    \"\"\"\n",
    "    This function calculates the integral of a function.\n",
    "    Args:\n",
    "        v = volume\n",
    "        p = density\n",
    "        temp = temperature\n",
    "        theta = Debye temperature\n",
    "        returns area under the curve\n",
    "    \"\"\"\n",
    "    k_b = 1.380649e-23 #boltzmann constant\n",
    "    f = lambda x: (x**4)*np.exp(x)/((np.exp(x)-1)**2)\n",
    "\n",
    "    constant = 9 * v * p * k_b * (temp/theta)**3\n",
    "    \n",
    "    result = integrate.quad(f, 0, theta/temp)\n",
    "\n",
    "    return result\n",
    "\n",
    "\"\"\"c_v takes the absolute value of the difference between the areas under \n",
    "   each curve evaulated from 0 to 5 and from 0 to 500.\"\"\"\n",
    "c_v = abs(integration(0.001, 6.022e28, 500, 428)[0] - integration(0.001, 6.022e28, 5, 428)[0])\n",
    "\n",
    "print(c_v)\n",
    "\n",
    "cv = []\n",
    "i = 0\n",
    "T = range(5, 500)\n",
    "\n",
    "for i in range(len(T)): #runs from all values between 5 and 500\n",
    "    cv.append(integration(0.001, 6.022e28, T[i], 428))\n",
    "    \n",
    "    \n",
    "plt.plot(T, cv)\n",
    "\n",
    "plt.xlabel('Temperature (K)')\n",
    "plt.ylabel('Heat Capacity (J/K)')\n",
    "plt.title('Heat Capacity of a Solid')\n",
    "\n",
    "plt.show()\n"
   ]
  },
  {
   "cell_type": "code",
   "execution_count": null,
   "id": "c8cd202e",
   "metadata": {},
   "outputs": [],
   "source": []
  }
 ],
 "metadata": {
  "kernelspec": {
   "display_name": "Python 3 (ipykernel)",
   "language": "python",
   "name": "python3"
  },
  "language_info": {
   "codemirror_mode": {
    "name": "ipython",
    "version": 3
   },
   "file_extension": ".py",
   "mimetype": "text/x-python",
   "name": "python",
   "nbconvert_exporter": "python",
   "pygments_lexer": "ipython3",
   "version": "3.8.5"
  }
 },
 "nbformat": 4,
 "nbformat_minor": 5
}
